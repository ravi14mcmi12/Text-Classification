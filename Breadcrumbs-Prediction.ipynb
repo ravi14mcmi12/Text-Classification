{
 "cells": [
  {
   "cell_type": "code",
   "execution_count": 1,
   "metadata": {
    "collapsed": true
   },
   "outputs": [],
   "source": [
    "import numpy as np\n",
    "import pandas as pd\n",
    "from sklearn import preprocessing\n",
    "from sklearn.ensemble import RandomForestClassifier"
   ]
  },
  {
   "cell_type": "code",
   "execution_count": 2,
   "metadata": {},
   "outputs": [],
   "source": [
    "train = pd.read_csv(\"D:/Personal/indix/train.csv\")\n",
    "test = pd.read_csv(\"D:/Personal/indix/evaluation.csv\")"
   ]
  },
  {
   "cell_type": "code",
   "execution_count": 3,
   "metadata": {
    "scrolled": true
   },
   "outputs": [
    {
     "data": {
      "text/html": [
       "<div>\n",
       "<table border=\"1\" class=\"dataframe\">\n",
       "  <thead>\n",
       "    <tr style=\"text-align: right;\">\n",
       "      <th></th>\n",
       "      <th>storeId</th>\n",
       "      <th>url</th>\n",
       "      <th>additionalAttributes</th>\n",
       "      <th>breadcrumbs</th>\n",
       "      <th>label</th>\n",
       "    </tr>\n",
       "  </thead>\n",
       "  <tbody>\n",
       "    <tr>\n",
       "      <th>0</th>\n",
       "      <td>23</td>\n",
       "      <td>http://www.walmart.com/ip/best-of-toto%3A-pian...</td>\n",
       "      <td>Contributed by=Toto;Format=Paperback;Number of...</td>\n",
       "      <td>books &gt; art music &amp; photography &gt; music</td>\n",
       "      <td>books</td>\n",
       "    </tr>\n",
       "    <tr>\n",
       "      <th>1</th>\n",
       "      <td>NaN</td>\n",
       "      <td>NaN</td>\n",
       "      <td>NaN</td>\n",
       "      <td>best buy &gt; computers &amp; tablets &gt; computer card...</td>\n",
       "      <td>rest</td>\n",
       "    </tr>\n",
       "    <tr>\n",
       "      <th>2</th>\n",
       "      <td>23</td>\n",
       "      <td>https://www.walmart.com/ip/34441317</td>\n",
       "      <td>Performer=Cult Of Youth;Record Label=Vinyl;1.=...</td>\n",
       "      <td>music on cd or vinyl &gt; rock music on cd or vin...</td>\n",
       "      <td>music</td>\n",
       "    </tr>\n",
       "    <tr>\n",
       "      <th>3</th>\n",
       "      <td>26</td>\n",
       "      <td>https://www.overstock.com/Books-Movies-Music-G...</td>\n",
       "      <td>Format=Paperback;Copyright Year=2000;Publisher...</td>\n",
       "      <td>books &amp; media &gt; books &gt; cooking &amp; food books &gt;...</td>\n",
       "      <td>books</td>\n",
       "    </tr>\n",
       "    <tr>\n",
       "      <th>4</th>\n",
       "      <td>22</td>\n",
       "      <td>http://www.target.com/p/amore-version-ii/-/A-1...</td>\n",
       "      <td>Store Item Number (DPCI)=244-48-2721;Origin=Ma...</td>\n",
       "      <td>target &gt; movies, music &amp; books &gt; music &gt; class...</td>\n",
       "      <td>music</td>\n",
       "    </tr>\n",
       "  </tbody>\n",
       "</table>\n",
       "</div>"
      ],
      "text/plain": [
       "  storeId                                                url  \\\n",
       "0      23  http://www.walmart.com/ip/best-of-toto%3A-pian...   \n",
       "1     NaN                                                NaN   \n",
       "2      23                https://www.walmart.com/ip/34441317   \n",
       "3      26  https://www.overstock.com/Books-Movies-Music-G...   \n",
       "4      22  http://www.target.com/p/amore-version-ii/-/A-1...   \n",
       "\n",
       "                                additionalAttributes  \\\n",
       "0  Contributed by=Toto;Format=Paperback;Number of...   \n",
       "1                                                NaN   \n",
       "2  Performer=Cult Of Youth;Record Label=Vinyl;1.=...   \n",
       "3  Format=Paperback;Copyright Year=2000;Publisher...   \n",
       "4  Store Item Number (DPCI)=244-48-2721;Origin=Ma...   \n",
       "\n",
       "                                         breadcrumbs  label  \n",
       "0            books > art music & photography > music  books  \n",
       "1  best buy > computers & tablets > computer card...   rest  \n",
       "2  music on cd or vinyl > rock music on cd or vin...  music  \n",
       "3  books & media > books > cooking & food books >...  books  \n",
       "4  target > movies, music & books > music > class...  music  "
      ]
     },
     "execution_count": 3,
     "metadata": {},
     "output_type": "execute_result"
    }
   ],
   "source": [
    "train.head()"
   ]
  },
  {
   "cell_type": "markdown",
   "metadata": {},
   "source": [
    "train.head()"
   ]
  },
  {
   "cell_type": "markdown",
   "metadata": {},
   "source": [
    "# Data View / summary"
   ]
  },
  {
   "cell_type": "code",
   "execution_count": 4,
   "metadata": {},
   "outputs": [
    {
     "data": {
      "text/plain": [
       "(603201, 5)"
      ]
     },
     "execution_count": 4,
     "metadata": {},
     "output_type": "execute_result"
    }
   ],
   "source": [
    "train.shape"
   ]
  },
  {
   "cell_type": "code",
   "execution_count": 5,
   "metadata": {},
   "outputs": [
    {
     "data": {
      "text/plain": [
       "(442041, 5)"
      ]
     },
     "execution_count": 5,
     "metadata": {},
     "output_type": "execute_result"
    }
   ],
   "source": [
    "test.shape"
   ]
  },
  {
   "cell_type": "code",
   "execution_count": 6,
   "metadata": {},
   "outputs": [
    {
     "data": {
      "text/html": [
       "<div>\n",
       "<table border=\"1\" class=\"dataframe\">\n",
       "  <thead>\n",
       "    <tr style=\"text-align: right;\">\n",
       "      <th></th>\n",
       "      <th>storeId</th>\n",
       "      <th>url</th>\n",
       "      <th>additionalAttributes</th>\n",
       "      <th>breadcrumbs</th>\n",
       "      <th>label</th>\n",
       "    </tr>\n",
       "  </thead>\n",
       "  <tbody>\n",
       "    <tr>\n",
       "      <th>count</th>\n",
       "      <td>213951</td>\n",
       "      <td>213951</td>\n",
       "      <td>213951</td>\n",
       "      <td>599800</td>\n",
       "      <td>603201</td>\n",
       "    </tr>\n",
       "    <tr>\n",
       "      <th>unique</th>\n",
       "      <td>166</td>\n",
       "      <td>201510</td>\n",
       "      <td>199742</td>\n",
       "      <td>63126</td>\n",
       "      <td>4</td>\n",
       "    </tr>\n",
       "    <tr>\n",
       "      <th>top</th>\n",
       "      <td>22</td>\n",
       "      <td>https://www.walmart.com/ip/At-Home-Bonus-Track...</td>\n",
       "      <td>Country of Origin=United States</td>\n",
       "      <td>books</td>\n",
       "      <td>rest</td>\n",
       "    </tr>\n",
       "    <tr>\n",
       "      <th>freq</th>\n",
       "      <td>48000</td>\n",
       "      <td>6</td>\n",
       "      <td>405</td>\n",
       "      <td>16039</td>\n",
       "      <td>389250</td>\n",
       "    </tr>\n",
       "  </tbody>\n",
       "</table>\n",
       "</div>"
      ],
      "text/plain": [
       "       storeId                                                url  \\\n",
       "count   213951                                             213951   \n",
       "unique     166                                             201510   \n",
       "top         22  https://www.walmart.com/ip/At-Home-Bonus-Track...   \n",
       "freq     48000                                                  6   \n",
       "\n",
       "                   additionalAttributes breadcrumbs   label  \n",
       "count                            213951      599800  603201  \n",
       "unique                           199742       63126       4  \n",
       "top     Country of Origin=United States       books    rest  \n",
       "freq                                405       16039  389250  "
      ]
     },
     "execution_count": 6,
     "metadata": {},
     "output_type": "execute_result"
    }
   ],
   "source": [
    "train.describe()"
   ]
  },
  {
   "cell_type": "code",
   "execution_count": 7,
   "metadata": {},
   "outputs": [
    {
     "data": {
      "text/plain": [
       "storeId                  True\n",
       "url                      True\n",
       "additionalAttributes     True\n",
       "breadcrumbs              True\n",
       "label                   False\n",
       "dtype: bool"
      ]
     },
     "execution_count": 7,
     "metadata": {},
     "output_type": "execute_result"
    }
   ],
   "source": [
    "## checking the nan value in data set- trian\n",
    "train.isnull().any()"
   ]
  },
  {
   "cell_type": "code",
   "execution_count": 8,
   "metadata": {},
   "outputs": [
    {
     "data": {
      "text/plain": [
       "True"
      ]
     },
     "execution_count": 8,
     "metadata": {},
     "output_type": "execute_result"
    }
   ],
   "source": [
    "## Checking the duplicate values in ['breadcrumbs', 'lebel']\n",
    "train.duplicated().any()"
   ]
  },
  {
   "cell_type": "markdown",
   "metadata": {},
   "source": [
    "### Data Cleaning- making structure data for model prediction\n",
    "By doing this the change of overfitting will be reduced."
   ]
  },
  {
   "cell_type": "code",
   "execution_count": 9,
   "metadata": {},
   "outputs": [],
   "source": [
    "## Drop all Na values- As will train baise the model\n",
    "train_struct_df = train.dropna()"
   ]
  },
  {
   "cell_type": "code",
   "execution_count": 10,
   "metadata": {},
   "outputs": [
    {
     "data": {
      "text/plain": [
       "storeId                 False\n",
       "url                     False\n",
       "additionalAttributes    False\n",
       "breadcrumbs             False\n",
       "label                   False\n",
       "dtype: bool"
      ]
     },
     "execution_count": 10,
     "metadata": {},
     "output_type": "execute_result"
    }
   ],
   "source": [
    "## cross checkig for na values in train data set\n",
    "train_struct_df.isnull().any()"
   ]
  },
  {
   "cell_type": "code",
   "execution_count": 11,
   "metadata": {},
   "outputs": [
    {
     "data": {
      "text/plain": [
       "(603201, 5)"
      ]
     },
     "execution_count": 11,
     "metadata": {},
     "output_type": "execute_result"
    }
   ],
   "source": [
    "train.shape"
   ]
  },
  {
   "cell_type": "markdown",
   "metadata": {},
   "source": [
    "The original data has sahpe (603201, 5) and after removing the Null from all columns the size has been reduced to 66%.\n",
    "So need to romve the only columns null values which are going to be used as the train features."
   ]
  },
  {
   "cell_type": "code",
   "execution_count": 12,
   "metadata": {},
   "outputs": [],
   "source": [
    "train_struct_df = train.dropna(subset = ['breadcrumbs', 'label'])"
   ]
  },
  {
   "cell_type": "code",
   "execution_count": 13,
   "metadata": {},
   "outputs": [
    {
     "data": {
      "text/plain": [
       "(599800, 5)"
      ]
     },
     "execution_count": 13,
     "metadata": {},
     "output_type": "execute_result"
    }
   ],
   "source": [
    "train_struct_df.shape"
   ]
  },
  {
   "cell_type": "code",
   "execution_count": 14,
   "metadata": {},
   "outputs": [
    {
     "data": {
      "text/plain": [
       "True"
      ]
     },
     "execution_count": 14,
     "metadata": {},
     "output_type": "execute_result"
    }
   ],
   "source": [
    "## Removing duplicate in the columns ['breadcrumbs', 'label']\n",
    "train_struct_df.duplicated().any()"
   ]
  },
  {
   "cell_type": "code",
   "execution_count": 15,
   "metadata": {},
   "outputs": [],
   "source": [
    "train_struct_df = train_struct_df.drop_duplicates(subset = ['breadcrumbs', 'label'])"
   ]
  },
  {
   "cell_type": "code",
   "execution_count": 16,
   "metadata": {},
   "outputs": [
    {
     "data": {
      "text/plain": [
       "(63126, 5)"
      ]
     },
     "execution_count": 16,
     "metadata": {},
     "output_type": "execute_result"
    }
   ],
   "source": [
    "train_struct_df.shape"
   ]
  },
  {
   "cell_type": "markdown",
   "metadata": {},
   "source": [
    "So after removal of <NULL> and Duplicate- we have 63126 unique entries for 'train' data"
   ]
  },
  {
   "cell_type": "code",
   "execution_count": 17,
   "metadata": {},
   "outputs": [
    {
     "data": {
      "text/html": [
       "<div>\n",
       "<table border=\"1\" class=\"dataframe\">\n",
       "  <thead>\n",
       "    <tr style=\"text-align: right;\">\n",
       "      <th></th>\n",
       "      <th>storeId</th>\n",
       "      <th>url</th>\n",
       "      <th>additionalAttributes</th>\n",
       "      <th>breadcrumbs</th>\n",
       "      <th>label</th>\n",
       "    </tr>\n",
       "  </thead>\n",
       "  <tbody>\n",
       "    <tr>\n",
       "      <th>0</th>\n",
       "      <td>23</td>\n",
       "      <td>http://www.walmart.com/ip/best-of-toto%3A-pian...</td>\n",
       "      <td>Contributed by=Toto;Format=Paperback;Number of...</td>\n",
       "      <td>books &gt; art music &amp; photography &gt; music</td>\n",
       "      <td>books</td>\n",
       "    </tr>\n",
       "    <tr>\n",
       "      <th>1</th>\n",
       "      <td>NaN</td>\n",
       "      <td>NaN</td>\n",
       "      <td>NaN</td>\n",
       "      <td>best buy &gt; computers &amp; tablets &gt; computer card...</td>\n",
       "      <td>rest</td>\n",
       "    </tr>\n",
       "    <tr>\n",
       "      <th>2</th>\n",
       "      <td>23</td>\n",
       "      <td>https://www.walmart.com/ip/34441317</td>\n",
       "      <td>Performer=Cult Of Youth;Record Label=Vinyl;1.=...</td>\n",
       "      <td>music on cd or vinyl &gt; rock music on cd or vin...</td>\n",
       "      <td>music</td>\n",
       "    </tr>\n",
       "    <tr>\n",
       "      <th>3</th>\n",
       "      <td>26</td>\n",
       "      <td>https://www.overstock.com/Books-Movies-Music-G...</td>\n",
       "      <td>Format=Paperback;Copyright Year=2000;Publisher...</td>\n",
       "      <td>books &amp; media &gt; books &gt; cooking &amp; food books &gt;...</td>\n",
       "      <td>books</td>\n",
       "    </tr>\n",
       "    <tr>\n",
       "      <th>4</th>\n",
       "      <td>22</td>\n",
       "      <td>http://www.target.com/p/amore-version-ii/-/A-1...</td>\n",
       "      <td>Store Item Number (DPCI)=244-48-2721;Origin=Ma...</td>\n",
       "      <td>target &gt; movies, music &amp; books &gt; music &gt; class...</td>\n",
       "      <td>music</td>\n",
       "    </tr>\n",
       "  </tbody>\n",
       "</table>\n",
       "</div>"
      ],
      "text/plain": [
       "  storeId                                                url  \\\n",
       "0      23  http://www.walmart.com/ip/best-of-toto%3A-pian...   \n",
       "1     NaN                                                NaN   \n",
       "2      23                https://www.walmart.com/ip/34441317   \n",
       "3      26  https://www.overstock.com/Books-Movies-Music-G...   \n",
       "4      22  http://www.target.com/p/amore-version-ii/-/A-1...   \n",
       "\n",
       "                                additionalAttributes  \\\n",
       "0  Contributed by=Toto;Format=Paperback;Number of...   \n",
       "1                                                NaN   \n",
       "2  Performer=Cult Of Youth;Record Label=Vinyl;1.=...   \n",
       "3  Format=Paperback;Copyright Year=2000;Publisher...   \n",
       "4  Store Item Number (DPCI)=244-48-2721;Origin=Ma...   \n",
       "\n",
       "                                         breadcrumbs  label  \n",
       "0            books > art music & photography > music  books  \n",
       "1  best buy > computers & tablets > computer card...   rest  \n",
       "2  music on cd or vinyl > rock music on cd or vin...  music  \n",
       "3  books & media > books > cooking & food books >...  books  \n",
       "4  target > movies, music & books > music > class...  music  "
      ]
     },
     "execution_count": 17,
     "metadata": {},
     "output_type": "execute_result"
    }
   ],
   "source": [
    "## Seperating the 'breadcrumbs' column into different columns\n",
    "train_struct_df.head()"
   ]
  },
  {
   "cell_type": "code",
   "execution_count": 18,
   "metadata": {
    "collapsed": true
   },
   "outputs": [],
   "source": [
    "from sklearn.feature_extraction.text import CountVectorizer"
   ]
  },
  {
   "cell_type": "code",
   "execution_count": 19,
   "metadata": {
    "collapsed": true
   },
   "outputs": [],
   "source": [
    "count_vect = CountVectorizer()"
   ]
  },
  {
   "cell_type": "code",
   "execution_count": 20,
   "metadata": {
    "collapsed": true
   },
   "outputs": [],
   "source": [
    "X_train_counts = count_vect.fit_transform(train_struct_df.breadcrumbs.values.astype('U'))"
   ]
  },
  {
   "cell_type": "code",
   "execution_count": 21,
   "metadata": {},
   "outputs": [
    {
     "data": {
      "text/plain": [
       "(63126, 18287)"
      ]
     },
     "execution_count": 21,
     "metadata": {},
     "output_type": "execute_result"
    }
   ],
   "source": [
    "X_train_counts.shape"
   ]
  },
  {
   "cell_type": "code",
   "execution_count": 22,
   "metadata": {
    "collapsed": true
   },
   "outputs": [],
   "source": [
    "from sklearn.feature_extraction.text import TfidfTransformer"
   ]
  },
  {
   "cell_type": "code",
   "execution_count": 23,
   "metadata": {
    "collapsed": true
   },
   "outputs": [],
   "source": [
    "tfidf_transformer = TfidfTransformer()"
   ]
  },
  {
   "cell_type": "code",
   "execution_count": 24,
   "metadata": {
    "collapsed": true
   },
   "outputs": [],
   "source": [
    "X_train_tfidf = tfidf_transformer.fit_transform(X_train_counts)"
   ]
  },
  {
   "cell_type": "code",
   "execution_count": 25,
   "metadata": {},
   "outputs": [
    {
     "data": {
      "text/plain": [
       "(63126, 18287)"
      ]
     },
     "execution_count": 25,
     "metadata": {},
     "output_type": "execute_result"
    }
   ],
   "source": [
    "X_train_tfidf.shape"
   ]
  },
  {
   "cell_type": "markdown",
   "metadata": {},
   "source": [
    "## Running ML Algorithm"
   ]
  },
  {
   "cell_type": "markdown",
   "metadata": {},
   "source": [
    "### Naive Bayes"
   ]
  },
  {
   "cell_type": "code",
   "execution_count": 26,
   "metadata": {
    "collapsed": true
   },
   "outputs": [],
   "source": [
    "from sklearn.naive_bayes import MultinomialNB"
   ]
  },
  {
   "cell_type": "code",
   "execution_count": 27,
   "metadata": {
    "collapsed": true
   },
   "outputs": [],
   "source": [
    "clf = MultinomialNB().fit(X_train_tfidf, train_struct_df.label)"
   ]
  },
  {
   "cell_type": "markdown",
   "metadata": {},
   "source": [
    "#### Building a Pipeline: To reduce the Code size"
   ]
  },
  {
   "cell_type": "code",
   "execution_count": 28,
   "metadata": {
    "collapsed": true
   },
   "outputs": [],
   "source": [
    "from sklearn.pipeline import Pipeline"
   ]
  },
  {
   "cell_type": "code",
   "execution_count": 29,
   "metadata": {
    "collapsed": true
   },
   "outputs": [],
   "source": [
    "text_clf = Pipeline([('vect', CountVectorizer()),\n",
    "                     ('tfidf', TfidfTransformer()),\n",
    "                     ('clf', MultinomialNB()),])"
   ]
  },
  {
   "cell_type": "code",
   "execution_count": 30,
   "metadata": {},
   "outputs": [],
   "source": [
    "text_clf = text_clf.fit(train_struct_df.breadcrumbs, train_struct_df.label)"
   ]
  },
  {
   "cell_type": "markdown",
   "metadata": {},
   "source": [
    "### 1. Performance of  NB Classifier"
   ]
  },
  {
   "cell_type": "code",
   "execution_count": 31,
   "metadata": {
    "collapsed": true
   },
   "outputs": [],
   "source": [
    "import numpy as np"
   ]
  },
  {
   "cell_type": "code",
   "execution_count": 32,
   "metadata": {
    "scrolled": true
   },
   "outputs": [
    {
     "data": {
      "text/html": [
       "<div>\n",
       "<table border=\"1\" class=\"dataframe\">\n",
       "  <thead>\n",
       "    <tr style=\"text-align: right;\">\n",
       "      <th></th>\n",
       "      <th>storeId</th>\n",
       "      <th>url</th>\n",
       "      <th>additionalAttributes</th>\n",
       "      <th>breadcrumbs</th>\n",
       "      <th>id</th>\n",
       "    </tr>\n",
       "  </thead>\n",
       "  <tbody>\n",
       "    <tr>\n",
       "      <th>0</th>\n",
       "      <td>NaN</td>\n",
       "      <td>NaN</td>\n",
       "      <td>NaN</td>\n",
       "      <td>baby products &gt; bathing &amp; skin care &gt; washclot...</td>\n",
       "      <td>8589934592</td>\n",
       "    </tr>\n",
       "    <tr>\n",
       "      <th>1</th>\n",
       "      <td>NaN</td>\n",
       "      <td>NaN</td>\n",
       "      <td>NaN</td>\n",
       "      <td>online shopping  &gt;  home &amp; garden  &gt;  art gal...</td>\n",
       "      <td>8589934593</td>\n",
       "    </tr>\n",
       "    <tr>\n",
       "      <th>2</th>\n",
       "      <td>NaN</td>\n",
       "      <td>NaN</td>\n",
       "      <td>NaN</td>\n",
       "      <td>home goods &gt; kitchen &amp; dining &gt; table linens &amp;...</td>\n",
       "      <td>8589934594</td>\n",
       "    </tr>\n",
       "    <tr>\n",
       "      <th>3</th>\n",
       "      <td>NaN</td>\n",
       "      <td>NaN</td>\n",
       "      <td>NaN</td>\n",
       "      <td>11320</td>\n",
       "      <td>8589934595</td>\n",
       "    </tr>\n",
       "    <tr>\n",
       "      <th>4</th>\n",
       "      <td>NaN</td>\n",
       "      <td>NaN</td>\n",
       "      <td>NaN</td>\n",
       "      <td>tools &amp; home improvement &gt; kitchen &amp; bath fixt...</td>\n",
       "      <td>8589934596</td>\n",
       "    </tr>\n",
       "  </tbody>\n",
       "</table>\n",
       "</div>"
      ],
      "text/plain": [
       "  storeId  url additionalAttributes  \\\n",
       "0     NaN  NaN                  NaN   \n",
       "1     NaN  NaN                  NaN   \n",
       "2     NaN  NaN                  NaN   \n",
       "3     NaN  NaN                  NaN   \n",
       "4     NaN  NaN                  NaN   \n",
       "\n",
       "                                         breadcrumbs          id  \n",
       "0  baby products > bathing & skin care > washclot...  8589934592  \n",
       "1   online shopping  >  home & garden  >  art gal...  8589934593  \n",
       "2  home goods > kitchen & dining > table linens &...  8589934594  \n",
       "3                                              11320  8589934595  \n",
       "4  tools & home improvement > kitchen & bath fixt...  8589934596  "
      ]
     },
     "execution_count": 32,
     "metadata": {},
     "output_type": "execute_result"
    }
   ],
   "source": [
    "test.head()"
   ]
  },
  {
   "cell_type": "code",
   "execution_count": 33,
   "metadata": {
    "collapsed": true
   },
   "outputs": [],
   "source": [
    "test['breadcrumbs'] = test['breadcrumbs'].astype('str')"
   ]
  },
  {
   "cell_type": "code",
   "execution_count": 34,
   "metadata": {
    "collapsed": true
   },
   "outputs": [],
   "source": [
    "test_pred = test.drop_duplicates(subset = ['breadcrumbs'])"
   ]
  },
  {
   "cell_type": "code",
   "execution_count": 35,
   "metadata": {},
   "outputs": [
    {
     "data": {
      "text/plain": [
       "False"
      ]
     },
     "execution_count": 35,
     "metadata": {},
     "output_type": "execute_result"
    }
   ],
   "source": [
    "test.duplicated().any()"
   ]
  },
  {
   "cell_type": "code",
   "execution_count": 36,
   "metadata": {},
   "outputs": [],
   "source": [
    "predicted = text_clf.predict(test.breadcrumbs)"
   ]
  },
  {
   "cell_type": "code",
   "execution_count": 37,
   "metadata": {},
   "outputs": [
    {
     "data": {
      "text/plain": [
       "numpy.ndarray"
      ]
     },
     "execution_count": 37,
     "metadata": {},
     "output_type": "execute_result"
    }
   ],
   "source": [
    "type(predicted)"
   ]
  },
  {
   "cell_type": "code",
   "execution_count": 38,
   "metadata": {},
   "outputs": [
    {
     "data": {
      "text/plain": [
       "array(['rest', 'rest', 'rest', ..., 'rest', 'rest', 'music'], \n",
       "      dtype='|S6')"
      ]
     },
     "execution_count": 38,
     "metadata": {},
     "output_type": "execute_result"
    }
   ],
   "source": [
    "predicted"
   ]
  },
  {
   "cell_type": "code",
   "execution_count": 39,
   "metadata": {},
   "outputs": [
    {
     "data": {
      "text/plain": [
       "442041"
      ]
     },
     "execution_count": 39,
     "metadata": {},
     "output_type": "execute_result"
    }
   ],
   "source": [
    "len(predicted)"
   ]
  },
  {
   "cell_type": "code",
   "execution_count": 40,
   "metadata": {
    "collapsed": true
   },
   "outputs": [],
   "source": [
    "prd_df = pd.DataFrame(predicted, columns = ['lebel'])"
   ]
  },
  {
   "cell_type": "code",
   "execution_count": 41,
   "metadata": {
    "collapsed": true
   },
   "outputs": [],
   "source": [
    "evaluation_prd = pd.concat([test,prd_df], axis=1)"
   ]
  },
  {
   "cell_type": "code",
   "execution_count": 42,
   "metadata": {
    "collapsed": true
   },
   "outputs": [],
   "source": [
    "evaluation_prd.to_csv('D:\\Personal\\indix/evaluation_prd_NB.csv', index=False)"
   ]
  },
  {
   "cell_type": "code",
   "execution_count": 43,
   "metadata": {},
   "outputs": [
    {
     "data": {
      "text/html": [
       "<div>\n",
       "<table border=\"1\" class=\"dataframe\">\n",
       "  <thead>\n",
       "    <tr style=\"text-align: right;\">\n",
       "      <th></th>\n",
       "      <th>storeId</th>\n",
       "      <th>url</th>\n",
       "      <th>additionalAttributes</th>\n",
       "      <th>breadcrumbs</th>\n",
       "      <th>id</th>\n",
       "      <th>lebel</th>\n",
       "    </tr>\n",
       "  </thead>\n",
       "  <tbody>\n",
       "    <tr>\n",
       "      <th>0</th>\n",
       "      <td>NaN</td>\n",
       "      <td>NaN</td>\n",
       "      <td>NaN</td>\n",
       "      <td>baby products &gt; bathing &amp; skin care &gt; washclot...</td>\n",
       "      <td>8589934592</td>\n",
       "      <td>rest</td>\n",
       "    </tr>\n",
       "    <tr>\n",
       "      <th>1</th>\n",
       "      <td>NaN</td>\n",
       "      <td>NaN</td>\n",
       "      <td>NaN</td>\n",
       "      <td>online shopping  &gt;  home &amp; garden  &gt;  art gal...</td>\n",
       "      <td>8589934593</td>\n",
       "      <td>rest</td>\n",
       "    </tr>\n",
       "    <tr>\n",
       "      <th>2</th>\n",
       "      <td>NaN</td>\n",
       "      <td>NaN</td>\n",
       "      <td>NaN</td>\n",
       "      <td>home goods &gt; kitchen &amp; dining &gt; table linens &amp;...</td>\n",
       "      <td>8589934594</td>\n",
       "      <td>rest</td>\n",
       "    </tr>\n",
       "    <tr>\n",
       "      <th>3</th>\n",
       "      <td>NaN</td>\n",
       "      <td>NaN</td>\n",
       "      <td>NaN</td>\n",
       "      <td>11320</td>\n",
       "      <td>8589934595</td>\n",
       "      <td>rest</td>\n",
       "    </tr>\n",
       "    <tr>\n",
       "      <th>4</th>\n",
       "      <td>NaN</td>\n",
       "      <td>NaN</td>\n",
       "      <td>NaN</td>\n",
       "      <td>tools &amp; home improvement &gt; kitchen &amp; bath fixt...</td>\n",
       "      <td>8589934596</td>\n",
       "      <td>rest</td>\n",
       "    </tr>\n",
       "  </tbody>\n",
       "</table>\n",
       "</div>"
      ],
      "text/plain": [
       "  storeId  url additionalAttributes  \\\n",
       "0     NaN  NaN                  NaN   \n",
       "1     NaN  NaN                  NaN   \n",
       "2     NaN  NaN                  NaN   \n",
       "3     NaN  NaN                  NaN   \n",
       "4     NaN  NaN                  NaN   \n",
       "\n",
       "                                         breadcrumbs          id lebel  \n",
       "0  baby products > bathing & skin care > washclot...  8589934592  rest  \n",
       "1   online shopping  >  home & garden  >  art gal...  8589934593  rest  \n",
       "2  home goods > kitchen & dining > table linens &...  8589934594  rest  \n",
       "3                                              11320  8589934595  rest  \n",
       "4  tools & home improvement > kitchen & bath fixt...  8589934596  rest  "
      ]
     },
     "execution_count": 43,
     "metadata": {},
     "output_type": "execute_result"
    }
   ],
   "source": [
    "evaluation_prd.head()"
   ]
  },
  {
   "cell_type": "code",
   "execution_count": 44,
   "metadata": {},
   "outputs": [
    {
     "data": {
      "text/plain": [
       "442041"
      ]
     },
     "execution_count": 44,
     "metadata": {},
     "output_type": "execute_result"
    }
   ],
   "source": [
    "len(evaluation_prd)"
   ]
  },
  {
   "cell_type": "markdown",
   "metadata": {},
   "source": [
    "## To check the result accuracy:\n",
    "### I merged the predicted result and train data set on column Breadcrumbs on each below ML algorithm."
   ]
  },
  {
   "cell_type": "code",
   "execution_count": 45,
   "metadata": {
    "collapsed": true
   },
   "outputs": [],
   "source": [
    "evaluation_train_level = pd.merge(evaluation_prd, train_struct_df, on = 'breadcrumbs')"
   ]
  },
  {
   "cell_type": "code",
   "execution_count": 46,
   "metadata": {},
   "outputs": [
    {
     "data": {
      "text/html": [
       "<div>\n",
       "<table border=\"1\" class=\"dataframe\">\n",
       "  <thead>\n",
       "    <tr style=\"text-align: right;\">\n",
       "      <th></th>\n",
       "      <th>storeId_x</th>\n",
       "      <th>url_x</th>\n",
       "      <th>additionalAttributes_x</th>\n",
       "      <th>breadcrumbs</th>\n",
       "      <th>id</th>\n",
       "      <th>lebel</th>\n",
       "      <th>storeId_y</th>\n",
       "      <th>url_y</th>\n",
       "      <th>additionalAttributes_y</th>\n",
       "      <th>label</th>\n",
       "    </tr>\n",
       "  </thead>\n",
       "  <tbody>\n",
       "    <tr>\n",
       "      <th>0</th>\n",
       "      <td>NaN</td>\n",
       "      <td>NaN</td>\n",
       "      <td>NaN</td>\n",
       "      <td>baby products &gt; bathing &amp; skin care &gt; washclot...</td>\n",
       "      <td>8589934592</td>\n",
       "      <td>rest</td>\n",
       "      <td>NaN</td>\n",
       "      <td>NaN</td>\n",
       "      <td>NaN</td>\n",
       "      <td>rest</td>\n",
       "    </tr>\n",
       "    <tr>\n",
       "      <th>1</th>\n",
       "      <td>NaN</td>\n",
       "      <td>NaN</td>\n",
       "      <td>NaN</td>\n",
       "      <td>baby products &gt; bathing &amp; skin care &gt; washclot...</td>\n",
       "      <td>807453851709</td>\n",
       "      <td>rest</td>\n",
       "      <td>NaN</td>\n",
       "      <td>NaN</td>\n",
       "      <td>NaN</td>\n",
       "      <td>rest</td>\n",
       "    </tr>\n",
       "    <tr>\n",
       "      <th>2</th>\n",
       "      <td>NaN</td>\n",
       "      <td>NaN</td>\n",
       "      <td>NaN</td>\n",
       "      <td>baby products &gt; bathing &amp; skin care &gt; washclot...</td>\n",
       "      <td>1348619732961</td>\n",
       "      <td>rest</td>\n",
       "      <td>NaN</td>\n",
       "      <td>NaN</td>\n",
       "      <td>NaN</td>\n",
       "      <td>rest</td>\n",
       "    </tr>\n",
       "    <tr>\n",
       "      <th>3</th>\n",
       "      <td>NaN</td>\n",
       "      <td>NaN</td>\n",
       "      <td>NaN</td>\n",
       "      <td>baby products &gt; bathing &amp; skin care &gt; washclot...</td>\n",
       "      <td>1168231107106</td>\n",
       "      <td>rest</td>\n",
       "      <td>NaN</td>\n",
       "      <td>NaN</td>\n",
       "      <td>NaN</td>\n",
       "      <td>rest</td>\n",
       "    </tr>\n",
       "    <tr>\n",
       "      <th>4</th>\n",
       "      <td>NaN</td>\n",
       "      <td>NaN</td>\n",
       "      <td>NaN</td>\n",
       "      <td>online shopping  &gt;  home &amp; garden  &gt;  art gal...</td>\n",
       "      <td>8589934593</td>\n",
       "      <td>rest</td>\n",
       "      <td>NaN</td>\n",
       "      <td>NaN</td>\n",
       "      <td>NaN</td>\n",
       "      <td>rest</td>\n",
       "    </tr>\n",
       "  </tbody>\n",
       "</table>\n",
       "</div>"
      ],
      "text/plain": [
       "  storeId_x url_x additionalAttributes_x  \\\n",
       "0       NaN   NaN                    NaN   \n",
       "1       NaN   NaN                    NaN   \n",
       "2       NaN   NaN                    NaN   \n",
       "3       NaN   NaN                    NaN   \n",
       "4       NaN   NaN                    NaN   \n",
       "\n",
       "                                         breadcrumbs             id lebel  \\\n",
       "0  baby products > bathing & skin care > washclot...     8589934592  rest   \n",
       "1  baby products > bathing & skin care > washclot...   807453851709  rest   \n",
       "2  baby products > bathing & skin care > washclot...  1348619732961  rest   \n",
       "3  baby products > bathing & skin care > washclot...  1168231107106  rest   \n",
       "4   online shopping  >  home & garden  >  art gal...     8589934593  rest   \n",
       "\n",
       "  storeId_y url_y additionalAttributes_y label  \n",
       "0       NaN   NaN                    NaN  rest  \n",
       "1       NaN   NaN                    NaN  rest  \n",
       "2       NaN   NaN                    NaN  rest  \n",
       "3       NaN   NaN                    NaN  rest  \n",
       "4       NaN   NaN                    NaN  rest  "
      ]
     },
     "execution_count": 46,
     "metadata": {},
     "output_type": "execute_result"
    }
   ],
   "source": [
    "evaluation_train_level.head()"
   ]
  },
  {
   "cell_type": "code",
   "execution_count": 48,
   "metadata": {
    "collapsed": true
   },
   "outputs": [],
   "source": [
    "evaluation_train_level.to_csv('D:\\Personal\\indix/evaluation_NB.csv', index=False)"
   ]
  },
  {
   "cell_type": "code",
   "execution_count": 49,
   "metadata": {},
   "outputs": [
    {
     "data": {
      "text/plain": [
       "0.99508498194192985"
      ]
     },
     "execution_count": 49,
     "metadata": {},
     "output_type": "execute_result"
    }
   ],
   "source": [
    "np.mean(evaluation_train_level.lebel == evaluation_train_level.label)"
   ]
  },
  {
   "cell_type": "code",
   "execution_count": 50,
   "metadata": {},
   "outputs": [
    {
     "data": {
      "text/plain": [
       "442041"
      ]
     },
     "execution_count": 50,
     "metadata": {},
     "output_type": "execute_result"
    }
   ],
   "source": [
    "len(predicted)"
   ]
  },
  {
   "cell_type": "code",
   "execution_count": 51,
   "metadata": {},
   "outputs": [
    {
     "name": "stdout",
     "output_type": "stream",
     "text": [
      "421972\n",
      "(421972, 10)\n"
     ]
    }
   ],
   "source": [
    "print len(evaluation_train_level.lebel)\n",
    "print evaluation_train_level.shape"
   ]
  },
  {
   "cell_type": "code",
   "execution_count": 52,
   "metadata": {
    "collapsed": true
   },
   "outputs": [],
   "source": [
    "from sklearn.metrics import classification_report\n",
    "import matplotlib.pyplot as plt"
   ]
  },
  {
   "cell_type": "code",
   "execution_count": 53,
   "metadata": {},
   "outputs": [
    {
     "name": "stdout",
     "output_type": "stream",
     "text": [
      "             precision    recall  f1-score   support\n",
      "\n",
      "      books       0.99      0.91      0.95     21196\n",
      "      music       0.97      0.99      0.98     13753\n",
      "       rest       1.00      1.00      1.00    375105\n",
      "     videos       0.89      1.00      0.94     11918\n",
      "\n",
      "avg / total       1.00      1.00      1.00    421972\n",
      "\n"
     ]
    }
   ],
   "source": [
    "clf_report = classification_report(evaluation_train_level.lebel, evaluation_train_level.label)\n",
    "print(clf_report)"
   ]
  },
  {
   "cell_type": "code",
   "execution_count": 54,
   "metadata": {},
   "outputs": [],
   "source": [
    "def plot_classification_report(cr, title='Classification report ', with_avg_total=False, cmap=plt.cm.Blues):\n",
    "\n",
    "    lines = cr.split('\\n')\n",
    "\n",
    "    classes = []\n",
    "    plotMat = []\n",
    "    for line in lines[2 : (len(lines) - 3)]:\n",
    "        #print(line)\n",
    "        t = line.split()\n",
    "        # print(t)\n",
    "        classes.append(t[0])\n",
    "        v = [float(x) for x in t[1: len(t) - 1]]\n",
    "        print(v)\n",
    "        plotMat.append(v)\n",
    "\n",
    "    if with_avg_total:\n",
    "        aveTotal = lines[len(lines) - 1].split()\n",
    "        classes.append('avg/total')\n",
    "        vAveTotal = [float(x) for x in t[1:len(aveTotal) - 1]]\n",
    "        plotMat.append(vAveTotal)\n",
    "\n",
    "\n",
    "    plt.imshow(plotMat, interpolation='nearest', cmap=cmap)\n",
    "    plt.title(title)\n",
    "    plt.colorbar()\n",
    "    x_tick_marks = np.arange(3)\n",
    "    y_tick_marks = np.arange(len(classes))\n",
    "    plt.xticks(x_tick_marks, ['precision', 'recall', 'f1-score'], rotation=45)\n",
    "    plt.yticks(y_tick_marks, classes)\n",
    "    plt.tight_layout()\n",
    "    plt.ylabel('Classes')\n",
    "    plt.xlabel('Measures')\n",
    "    plt.show()"
   ]
  },
  {
   "cell_type": "code",
   "execution_count": 55,
   "metadata": {},
   "outputs": [
    {
     "name": "stdout",
     "output_type": "stream",
     "text": [
      "[0.99, 0.91, 0.95]\n",
      "[0.97, 0.99, 0.98]\n",
      "[1.0, 1.0, 1.0]\n",
      "[0.89, 1.0, 0.94]\n"
     ]
    },
    {
     "data": {
      "image/png": "[encoded data removed]",
      "text/plain": [
       "<matplotlib.figure.Figure at 0x1bca7c88>"
      ]
     },
     "metadata": {},
     "output_type": "display_data"
    }
   ],
   "source": [
    "plot_classification_report(clf_report)"
   ]
  },
  {
   "cell_type": "markdown",
   "metadata": {},
   "source": [
    "#### 2. Support Vector Machines (SVM)"
   ]
  },
  {
   "cell_type": "code",
   "execution_count": 56,
   "metadata": {},
   "outputs": [],
   "source": [
    "from sklearn.linear_model import SGDClassifier"
   ]
  },
  {
   "cell_type": "code",
   "execution_count": 57,
   "metadata": {
    "collapsed": true
   },
   "outputs": [],
   "source": [
    "text_clf_svm = Pipeline([('vect', CountVectorizer()),\n",
    "                         ('tfidf', TfidfTransformer()),\n",
    "                         ('clf-svm', SGDClassifier(loss='hinge', penalty='l2',\n",
    "                          alpha=1e-3, n_iter=5, random_state=42)),])"
   ]
  },
  {
   "cell_type": "code",
   "execution_count": 58,
   "metadata": {
    "collapsed": true
   },
   "outputs": [],
   "source": [
    "text_clf_svm= text_clf_svm.fit(train_struct_df.breadcrumbs, train_struct_df.label)"
   ]
  },
  {
   "cell_type": "code",
   "execution_count": 59,
   "metadata": {
    "collapsed": true
   },
   "outputs": [],
   "source": [
    "predicted_svm = text_clf_svm.predict(test.breadcrumbs)"
   ]
  },
  {
   "cell_type": "code",
   "execution_count": 60,
   "metadata": {
    "collapsed": true
   },
   "outputs": [],
   "source": [
    "prd_svm_df = pd.DataFrame(predicted_svm, columns = ['label_test'])\n",
    "evaluation_prd_svm = pd.concat([test,prd_svm_df], axis=1)\n",
    "evaluation_train_level_svm = pd.merge(evaluation_prd_svm, train_struct_df, on = 'breadcrumbs')"
   ]
  },
  {
   "cell_type": "code",
   "execution_count": 61,
   "metadata": {
    "scrolled": true
   },
   "outputs": [
    {
     "data": {
      "text/html": [
       "<div>\n",
       "<table border=\"1\" class=\"dataframe\">\n",
       "  <thead>\n",
       "    <tr style=\"text-align: right;\">\n",
       "      <th></th>\n",
       "      <th>storeId_x</th>\n",
       "      <th>url_x</th>\n",
       "      <th>additionalAttributes_x</th>\n",
       "      <th>breadcrumbs</th>\n",
       "      <th>id</th>\n",
       "      <th>label_test</th>\n",
       "      <th>storeId_y</th>\n",
       "      <th>url_y</th>\n",
       "      <th>additionalAttributes_y</th>\n",
       "      <th>label</th>\n",
       "    </tr>\n",
       "  </thead>\n",
       "  <tbody>\n",
       "    <tr>\n",
       "      <th>0</th>\n",
       "      <td>NaN</td>\n",
       "      <td>NaN</td>\n",
       "      <td>NaN</td>\n",
       "      <td>baby products &gt; bathing &amp; skin care &gt; washclot...</td>\n",
       "      <td>8589934592</td>\n",
       "      <td>rest</td>\n",
       "      <td>NaN</td>\n",
       "      <td>NaN</td>\n",
       "      <td>NaN</td>\n",
       "      <td>rest</td>\n",
       "    </tr>\n",
       "    <tr>\n",
       "      <th>1</th>\n",
       "      <td>NaN</td>\n",
       "      <td>NaN</td>\n",
       "      <td>NaN</td>\n",
       "      <td>baby products &gt; bathing &amp; skin care &gt; washclot...</td>\n",
       "      <td>807453851709</td>\n",
       "      <td>rest</td>\n",
       "      <td>NaN</td>\n",
       "      <td>NaN</td>\n",
       "      <td>NaN</td>\n",
       "      <td>rest</td>\n",
       "    </tr>\n",
       "    <tr>\n",
       "      <th>2</th>\n",
       "      <td>NaN</td>\n",
       "      <td>NaN</td>\n",
       "      <td>NaN</td>\n",
       "      <td>baby products &gt; bathing &amp; skin care &gt; washclot...</td>\n",
       "      <td>1348619732961</td>\n",
       "      <td>rest</td>\n",
       "      <td>NaN</td>\n",
       "      <td>NaN</td>\n",
       "      <td>NaN</td>\n",
       "      <td>rest</td>\n",
       "    </tr>\n",
       "    <tr>\n",
       "      <th>3</th>\n",
       "      <td>NaN</td>\n",
       "      <td>NaN</td>\n",
       "      <td>NaN</td>\n",
       "      <td>baby products &gt; bathing &amp; skin care &gt; washclot...</td>\n",
       "      <td>1168231107106</td>\n",
       "      <td>rest</td>\n",
       "      <td>NaN</td>\n",
       "      <td>NaN</td>\n",
       "      <td>NaN</td>\n",
       "      <td>rest</td>\n",
       "    </tr>\n",
       "    <tr>\n",
       "      <th>4</th>\n",
       "      <td>NaN</td>\n",
       "      <td>NaN</td>\n",
       "      <td>NaN</td>\n",
       "      <td>online shopping  &gt;  home &amp; garden  &gt;  art gal...</td>\n",
       "      <td>8589934593</td>\n",
       "      <td>rest</td>\n",
       "      <td>NaN</td>\n",
       "      <td>NaN</td>\n",
       "      <td>NaN</td>\n",
       "      <td>rest</td>\n",
       "    </tr>\n",
       "  </tbody>\n",
       "</table>\n",
       "</div>"
      ],
      "text/plain": [
       "  storeId_x url_x additionalAttributes_x  \\\n",
       "0       NaN   NaN                    NaN   \n",
       "1       NaN   NaN                    NaN   \n",
       "2       NaN   NaN                    NaN   \n",
       "3       NaN   NaN                    NaN   \n",
       "4       NaN   NaN                    NaN   \n",
       "\n",
       "                                         breadcrumbs             id  \\\n",
       "0  baby products > bathing & skin care > washclot...     8589934592   \n",
       "1  baby products > bathing & skin care > washclot...   807453851709   \n",
       "2  baby products > bathing & skin care > washclot...  1348619732961   \n",
       "3  baby products > bathing & skin care > washclot...  1168231107106   \n",
       "4   online shopping  >  home & garden  >  art gal...     8589934593   \n",
       "\n",
       "  label_test storeId_y url_y additionalAttributes_y label  \n",
       "0       rest       NaN   NaN                    NaN  rest  \n",
       "1       rest       NaN   NaN                    NaN  rest  \n",
       "2       rest       NaN   NaN                    NaN  rest  \n",
       "3       rest       NaN   NaN                    NaN  rest  \n",
       "4       rest       NaN   NaN                    NaN  rest  "
      ]
     },
     "execution_count": 61,
     "metadata": {},
     "output_type": "execute_result"
    }
   ],
   "source": [
    "evaluation_train_level_svm.head()"
   ]
  },
  {
   "cell_type": "code",
   "execution_count": 62,
   "metadata": {},
   "outputs": [
    {
     "data": {
      "text/plain": [
       "0.9634549211796043"
      ]
     },
     "execution_count": 62,
     "metadata": {},
     "output_type": "execute_result"
    }
   ],
   "source": [
    "np.mean(evaluation_train_level_svm.label_test == evaluation_train_level_svm.label)"
   ]
  },
  {
   "cell_type": "code",
   "execution_count": 63,
   "metadata": {},
   "outputs": [
    {
     "name": "stdout",
     "output_type": "stream",
     "text": [
      "             precision    recall  f1-score   support\n",
      "\n",
      "      books       0.56      1.00      0.72     19490\n",
      "      music       1.00      0.99      1.00     14104\n",
      "       rest       1.00      0.97      0.98    375045\n",
      "     videos       1.00      0.82      0.90     13333\n",
      "\n",
      "avg / total       0.98      0.96      0.97    421972\n",
      "\n"
     ]
    }
   ],
   "source": [
    "clf_report_svm = classification_report(evaluation_train_level_svm.label, evaluation_train_level_svm.label_test)\n",
    "print clf_report_svm"
   ]
  },
  {
   "cell_type": "code",
   "execution_count": 64,
   "metadata": {},
   "outputs": [
    {
     "name": "stdout",
     "output_type": "stream",
     "text": [
      "[0.56, 1.0, 0.72]\n",
      "[1.0, 0.99, 1.0]\n",
      "[1.0, 0.97, 0.98]\n",
      "[1.0, 0.82, 0.9]\n"
     ]
    },
    {
     "data": {
      "image/png": "[encoded data removed]",
      "text/plain": [
       "<matplotlib.figure.Figure at 0x20633978>"
      ]
     },
     "metadata": {},
     "output_type": "display_data"
    }
   ],
   "source": [
    "plot_classification_report(clf_report_svm)"
   ]
  },
  {
   "cell_type": "code",
   "execution_count": 65,
   "metadata": {
    "collapsed": true
   },
   "outputs": [],
   "source": [
    "evaluation_prd_svm.to_csv('D:\\Personal\\indix/evaluation_prd_svm.csv', index=False)"
   ]
  },
  {
   "cell_type": "markdown",
   "metadata": {},
   "source": [
    "#### 3. Grid Search"
   ]
  },
  {
   "cell_type": "code",
   "execution_count": 66,
   "metadata": {
    "collapsed": true
   },
   "outputs": [],
   "source": [
    "from sklearn.model_selection import GridSearchCV"
   ]
  },
  {
   "cell_type": "code",
   "execution_count": 67,
   "metadata": {
    "collapsed": true
   },
   "outputs": [],
   "source": [
    "## vect_ngram_range : use unigram and bigram and choose the one\n",
    "##which is optimal\n",
    "parameters = {'vect__ngram_range': [(1, 1), (1, 2)],\n",
    "               'tfidf__use_idf': (True, False),\n",
    "               'clf__alpha': (1e-2, 1e-3),}"
   ]
  },
  {
   "cell_type": "code",
   "execution_count": 68,
   "metadata": {
    "collapsed": true
   },
   "outputs": [],
   "source": [
    "### n_jobs = -1 --> use multiple cores from user machine\n",
    "### Using text_clf from Naive Bayes\n",
    "gs_clf = GridSearchCV(text_clf, parameters, n_jobs=-1)"
   ]
  },
  {
   "cell_type": "code",
   "execution_count": 69,
   "metadata": {
    "collapsed": true
   },
   "outputs": [],
   "source": [
    "gs_clf = gs_clf.fit(train_struct_df.breadcrumbs, train_struct_df.label)"
   ]
  },
  {
   "cell_type": "code",
   "execution_count": 70,
   "metadata": {
    "collapsed": true
   },
   "outputs": [],
   "source": [
    "predicted_gs = gs_clf.predict(test.breadcrumbs)"
   ]
  },
  {
   "cell_type": "code",
   "execution_count": 71,
   "metadata": {
    "collapsed": true
   },
   "outputs": [],
   "source": [
    "prd_gs_df = pd.DataFrame(predicted_gs, columns = ['label_test'])\n",
    "evaluation_prd_gs = pd.concat([test,prd_gs_df], axis=1)\n",
    "evaluation_train_level_gs = pd.merge(evaluation_prd_gs, train_struct_df, on = 'breadcrumbs')"
   ]
  },
  {
   "cell_type": "code",
   "execution_count": 72,
   "metadata": {},
   "outputs": [
    {
     "data": {
      "text/html": [
       "<div>\n",
       "<table border=\"1\" class=\"dataframe\">\n",
       "  <thead>\n",
       "    <tr style=\"text-align: right;\">\n",
       "      <th></th>\n",
       "      <th>storeId_x</th>\n",
       "      <th>url_x</th>\n",
       "      <th>additionalAttributes_x</th>\n",
       "      <th>breadcrumbs</th>\n",
       "      <th>id</th>\n",
       "      <th>label_test</th>\n",
       "      <th>storeId_y</th>\n",
       "      <th>url_y</th>\n",
       "      <th>additionalAttributes_y</th>\n",
       "      <th>label</th>\n",
       "    </tr>\n",
       "  </thead>\n",
       "  <tbody>\n",
       "    <tr>\n",
       "      <th>0</th>\n",
       "      <td>NaN</td>\n",
       "      <td>NaN</td>\n",
       "      <td>NaN</td>\n",
       "      <td>baby products &gt; bathing &amp; skin care &gt; washclot...</td>\n",
       "      <td>8589934592</td>\n",
       "      <td>rest</td>\n",
       "      <td>NaN</td>\n",
       "      <td>NaN</td>\n",
       "      <td>NaN</td>\n",
       "      <td>rest</td>\n",
       "    </tr>\n",
       "    <tr>\n",
       "      <th>1</th>\n",
       "      <td>NaN</td>\n",
       "      <td>NaN</td>\n",
       "      <td>NaN</td>\n",
       "      <td>baby products &gt; bathing &amp; skin care &gt; washclot...</td>\n",
       "      <td>807453851709</td>\n",
       "      <td>rest</td>\n",
       "      <td>NaN</td>\n",
       "      <td>NaN</td>\n",
       "      <td>NaN</td>\n",
       "      <td>rest</td>\n",
       "    </tr>\n",
       "    <tr>\n",
       "      <th>2</th>\n",
       "      <td>NaN</td>\n",
       "      <td>NaN</td>\n",
       "      <td>NaN</td>\n",
       "      <td>baby products &gt; bathing &amp; skin care &gt; washclot...</td>\n",
       "      <td>1348619732961</td>\n",
       "      <td>rest</td>\n",
       "      <td>NaN</td>\n",
       "      <td>NaN</td>\n",
       "      <td>NaN</td>\n",
       "      <td>rest</td>\n",
       "    </tr>\n",
       "    <tr>\n",
       "      <th>3</th>\n",
       "      <td>NaN</td>\n",
       "      <td>NaN</td>\n",
       "      <td>NaN</td>\n",
       "      <td>baby products &gt; bathing &amp; skin care &gt; washclot...</td>\n",
       "      <td>1168231107106</td>\n",
       "      <td>rest</td>\n",
       "      <td>NaN</td>\n",
       "      <td>NaN</td>\n",
       "      <td>NaN</td>\n",
       "      <td>rest</td>\n",
       "    </tr>\n",
       "    <tr>\n",
       "      <th>4</th>\n",
       "      <td>NaN</td>\n",
       "      <td>NaN</td>\n",
       "      <td>NaN</td>\n",
       "      <td>online shopping  &gt;  home &amp; garden  &gt;  art gal...</td>\n",
       "      <td>8589934593</td>\n",
       "      <td>rest</td>\n",
       "      <td>NaN</td>\n",
       "      <td>NaN</td>\n",
       "      <td>NaN</td>\n",
       "      <td>rest</td>\n",
       "    </tr>\n",
       "  </tbody>\n",
       "</table>\n",
       "</div>"
      ],
      "text/plain": [
       "  storeId_x url_x additionalAttributes_x  \\\n",
       "0       NaN   NaN                    NaN   \n",
       "1       NaN   NaN                    NaN   \n",
       "2       NaN   NaN                    NaN   \n",
       "3       NaN   NaN                    NaN   \n",
       "4       NaN   NaN                    NaN   \n",
       "\n",
       "                                         breadcrumbs             id  \\\n",
       "0  baby products > bathing & skin care > washclot...     8589934592   \n",
       "1  baby products > bathing & skin care > washclot...   807453851709   \n",
       "2  baby products > bathing & skin care > washclot...  1348619732961   \n",
       "3  baby products > bathing & skin care > washclot...  1168231107106   \n",
       "4   online shopping  >  home & garden  >  art gal...     8589934593   \n",
       "\n",
       "  label_test storeId_y url_y additionalAttributes_y label  \n",
       "0       rest       NaN   NaN                    NaN  rest  \n",
       "1       rest       NaN   NaN                    NaN  rest  \n",
       "2       rest       NaN   NaN                    NaN  rest  \n",
       "3       rest       NaN   NaN                    NaN  rest  \n",
       "4       rest       NaN   NaN                    NaN  rest  "
      ]
     },
     "execution_count": 72,
     "metadata": {},
     "output_type": "execute_result"
    }
   ],
   "source": [
    "evaluation_train_level_gs.head()"
   ]
  },
  {
   "cell_type": "code",
   "execution_count": 73,
   "metadata": {},
   "outputs": [
    {
     "data": {
      "text/plain": [
       "0.99991231645701606"
      ]
     },
     "execution_count": 73,
     "metadata": {},
     "output_type": "execute_result"
    }
   ],
   "source": [
    "np.mean(evaluation_train_level_gs.label_test == evaluation_train_level_gs.label)"
   ]
  },
  {
   "cell_type": "code",
   "execution_count": 74,
   "metadata": {},
   "outputs": [
    {
     "name": "stdout",
     "output_type": "stream",
     "text": [
      "             precision    recall  f1-score   support\n",
      "\n",
      "      books       1.00      1.00      1.00     19490\n",
      "      music       1.00      1.00      1.00     14104\n",
      "       rest       1.00      1.00      1.00    375045\n",
      "     videos       1.00      1.00      1.00     13333\n",
      "\n",
      "avg / total       1.00      1.00      1.00    421972\n",
      "\n"
     ]
    }
   ],
   "source": [
    "clf_report_gs = classification_report(evaluation_train_level_gs.label, evaluation_train_level_gs.label_test) \n",
    "print clf_report_gs"
   ]
  },
  {
   "cell_type": "code",
   "execution_count": 75,
   "metadata": {},
   "outputs": [
    {
     "name": "stdout",
     "output_type": "stream",
     "text": [
      "[1.0, 1.0, 1.0]\n",
      "[1.0, 1.0, 1.0]\n",
      "[1.0, 1.0, 1.0]\n",
      "[1.0, 1.0, 1.0]\n"
     ]
    },
    {
     "data": {
      "image/png": "[encoded data removed]",
      "text/plain": [
       "<matplotlib.figure.Figure at 0x22e2c5f8>"
      ]
     },
     "metadata": {},
     "output_type": "display_data"
    }
   ],
   "source": [
    "plot_classification_report(clf_report_gs)"
   ]
  },
  {
   "cell_type": "code",
   "execution_count": 76,
   "metadata": {
    "collapsed": true
   },
   "outputs": [],
   "source": [
    "evaluation_prd_gs.to_csv('D:\\Personal\\indix/evaluation_prd_gs.csv', index=False)"
   ]
  },
  {
   "cell_type": "markdown",
   "metadata": {
    "collapsed": true
   },
   "source": [
    "#### 4. Random Forest"
   ]
  },
  {
   "cell_type": "code",
   "execution_count": 77,
   "metadata": {
    "collapsed": true
   },
   "outputs": [],
   "source": [
    "from sklearn.ensemble import RandomForestClassifier"
   ]
  },
  {
   "cell_type": "code",
   "execution_count": 78,
   "metadata": {
    "collapsed": true
   },
   "outputs": [],
   "source": [
    "text_clf_rf = Pipeline([('vect', CountVectorizer()),\n",
    "                         ('tfidf', TfidfTransformer()),\n",
    "                         ('rf', RandomForestClassifier(n_estimators=500)),])"
   ]
  },
  {
   "cell_type": "code",
   "execution_count": 79,
   "metadata": {
    "collapsed": true
   },
   "outputs": [],
   "source": [
    "text_clf_rf = text_clf_rf.fit(train_struct_df.breadcrumbs, train_struct_df.label)"
   ]
  },
  {
   "cell_type": "code",
   "execution_count": 80,
   "metadata": {
    "collapsed": true
   },
   "outputs": [],
   "source": [
    "predicted_rf = text_clf_rf.predict(test.breadcrumbs)"
   ]
  },
  {
   "cell_type": "code",
   "execution_count": 82,
   "metadata": {
    "collapsed": true
   },
   "outputs": [],
   "source": [
    "prd_rf_df = pd.DataFrame(predicted_rf, columns = ['label_test'])\n",
    "evaluation_prd_rf = pd.concat([test,prd_rf_df], axis=1)\n",
    "evaluation_train_level_rf = pd.merge(evaluation_prd_rf, train_struct_df, on = 'breadcrumbs')"
   ]
  },
  {
   "cell_type": "code",
   "execution_count": 83,
   "metadata": {},
   "outputs": [
    {
     "data": {
      "text/plain": [
       "1.0"
      ]
     },
     "execution_count": 83,
     "metadata": {},
     "output_type": "execute_result"
    }
   ],
   "source": [
    "np.mean(evaluation_train_level_rf.label == evaluation_train_level_rf.label_test)"
   ]
  },
  {
   "cell_type": "code",
   "execution_count": 87,
   "metadata": {},
   "outputs": [
    {
     "name": "stdout",
     "output_type": "stream",
     "text": [
      "             precision    recall  f1-score   support\n",
      "\n",
      "      books       1.00      1.00      1.00     19490\n",
      "      music       1.00      1.00      1.00     14104\n",
      "       rest       1.00      1.00      1.00    375045\n",
      "     videos       1.00      1.00      1.00     13333\n",
      "\n",
      "avg / total       1.00      1.00      1.00    421972\n",
      "\n"
     ]
    }
   ],
   "source": [
    "clf_report_rf = classification_report(evaluation_train_level_rf.label, evaluation_train_level_rf.label_test) \n",
    "print clf_report_rf"
   ]
  },
  {
   "cell_type": "code",
   "execution_count": 88,
   "metadata": {},
   "outputs": [
    {
     "name": "stdout",
     "output_type": "stream",
     "text": [
      "[1.0, 1.0, 1.0]\n",
      "[1.0, 1.0, 1.0]\n",
      "[1.0, 1.0, 1.0]\n",
      "[1.0, 1.0, 1.0]\n"
     ]
    },
    {
     "data": {
      "image/png": "[encoded data removed]",
      "text/plain": [
       "<matplotlib.figure.Figure at 0x2b9999b0>"
      ]
     },
     "metadata": {},
     "output_type": "display_data"
    }
   ],
   "source": [
    "plot_classification_report(clf_report_gs)"
   ]
  },
  {
   "cell_type": "code",
   "execution_count": 89,
   "metadata": {
    "collapsed": true
   },
   "outputs": [],
   "source": [
    "evaluation_prd_rf.to_csv('D:\\Personal\\indix/evaluation_prd_rf.csv', index=False)"
   ]
  },
  {
   "cell_type": "markdown",
   "metadata": {},
   "source": [
    "## As we can see both  RF and GS are formed well, when we merged with train data set."
   ]
  },
  {
   "cell_type": "code",
   "execution_count": null,
   "metadata": {
    "collapsed": true
   },
   "outputs": [],
   "source": []
  }
 ],
 "metadata": {
  "kernelspec": {
   "display_name": "Python 3",
   "language": "python",
   "name": "python3"
  },
  "language_info": {
   "codemirror_mode": {
    "name": "ipython",
    "version": 3
   },
   "file_extension": ".py",
   "mimetype": "text/x-python",
   "name": "python",
   "nbconvert_exporter": "python",
   "pygments_lexer": "ipython3",
   "version": "3.6.5"
  }
 },
 "nbformat": 4,
 "nbformat_minor": 2
}
